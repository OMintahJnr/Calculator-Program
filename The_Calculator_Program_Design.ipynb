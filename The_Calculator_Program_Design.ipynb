{
  "nbformat": 4,
  "nbformat_minor": 0,
  "metadata": {
    "colab": {
      "name": "The_Calculator_Program_Design.ipynb",
      "provenance": [],
      "include_colab_link": true
    },
    "kernelspec": {
      "name": "python3",
      "display_name": "Python 3"
    },
    "language_info": {
      "name": "python"
    }
  },
  "cells": [
    {
      "cell_type": "markdown",
      "metadata": {
        "id": "view-in-github",
        "colab_type": "text"
      },
      "source": [
        "<a href=\"https://colab.research.google.com/github/OMintahJnr/Calculator-Program/blob/main/The_Calculator_Program_Design.ipynb\" target=\"_parent\"><img src=\"https://colab.research.google.com/assets/colab-badge.svg\" alt=\"Open In Colab\"/></a>"
      ]
    },
    {
      "cell_type": "markdown",
      "source": [
        "#The Calculator\n",
        "This notebook is an exercise in programming to help hone your skills through practice and repetition.\n",
        "\n",
        "## What are *our* Best Practices\n",
        "\n",
        "Here are the best practices we have been applying throughout the course.\n",
        "\n",
        "1. Use a code repository (*GitHub, small frequent commits*)\n",
        "2. Follow style guidelines (*PEP8*)\n",
        "3. Correct broken code immediately (*exception handling, input validation, testing*)\n",
        "4. Use the PyPI instead of doing it yourself (*search and import module*)\n",
        "5. Use the Right Data Types and Structures (*int, float, list, etc. *)\n",
        "6. Write Readable Code (*meaningful names and comments*)\n",
        "7. Create readable documentation (*Docstrings*)\n",
        "8. Use Virtual Environments (*Google VM instance, Binder*)\n",
        "9. Avoid anti-patterns (*be specific imports, exceptions etc. *)\n",
        "10. Follow *Zen of Python* (try *`import this`*)"
      ],
      "metadata": {
        "id": "in2iZP7A1rNP"
      }
    },
    {
      "cell_type": "markdown",
      "source": [
        "## The Challenge - Simple Calculator\n",
        "\n",
        "Write a program to prompt the user to select a mathematical operation and input two numbers. The program will then operate on the two numbers and output the result. The user will be able to continue performing operations on numbers or exit the program. The arithmetic operations include: \n",
        "* addition, \n",
        "* subtraction, \n",
        "* multiplication, and \n",
        "* division. \n",
        "\n",
        "Let's review the *Zen of Python*.  Run the following code cell"
      ],
      "metadata": {
        "id": "6McFoWcj2AUu"
      }
    },
    {
      "cell_type": "code",
      "execution_count": null,
      "metadata": {
        "id": "H_kOZrGM1e38"
      },
      "outputs": [],
      "source": [
        "import this"
      ]
    },
    {
      "cell_type": "markdown",
      "source": [
        "# Step 0 - Create code repository\n",
        "\n",
        "All projects need a project folder. Use the code repository to store the project. Go to GitHub, create a new repository with a meaningful name, like calculator, and add a README. Adding a readme file will initialise the repository. Initialising is *critical* and will make it easy to add files later.\n",
        "\n",
        "This notebook assumes we use Google Colab as the Integrated Development Environment (IDE). For our workflow and easy integration with the IDE, tick the box \"Include a link to Colaboratory\".\n",
        "\n",
        "This notebook will have small and frequent commits (Best Practice #1). You can look at the history of the notebook to view the commits."
      ],
      "metadata": {
        "id": "JqQiweAm3ENv"
      }
    },
    {
      "cell_type": "markdown",
      "source": [
        "# Step 1 - State the problem clearly\n",
        "\n",
        "We are following 5 step methodology:\n",
        "1. State the problem clearly\n",
        "2. Describe the input and output information\n",
        "3. Work the problem by hand\n",
        "4. Develop an algorithm (and convert it to python) \n",
        "5. Test solution with a variety of data\n",
        "\n",
        "\n",
        "## The Approach/Design\n",
        "\n",
        "The problem is to create a program where a user can perform any arithmetic function.\n"
      ],
      "metadata": {
        "id": "Ogxm2XmL3ulZ"
      }
    },
    {
      "cell_type": "markdown",
      "source": [
        "#Step 2 - Describe inputs and outputs\n",
        "\n",
        "Inputs required are:  \n",
        "\n",
        "1. We need a first number from the user \n",
        "2. We will need a second number from the user\n",
        "3. We will need them to insert the arthmetic operation they will like to perform.\n",
        "\n",
        "\n",
        "Outputs required: \n",
        "\n",
        "This is the total outcome of the arthmetic calculation based on the input selected."
      ],
      "metadata": {
        "id": "Oy2qLtkI33Wi"
      }
    },
    {
      "cell_type": "markdown",
      "source": [
        "# Step 3 - Work the problem by hand\n",
        "\n",
        "use some test-cases/scenario\n",
        "\n",
        "Example:\n",
        "\n",
        "1.First number = 20          \n",
        "\n",
        "Second number = 20\n",
        "\n",
        "Operation to perform = +\n",
        "\n",
        "Total = 40\n",
        "\n",
        "2.First number = 50.6\n",
        "\n",
        "Second number = 21.8\n",
        "\n",
        "Operation to perform = -\n",
        "\n",
        "Total = 28.8\n"
      ],
      "metadata": {
        "id": "V1eEfzun4ErK"
      }
    },
    {
      "cell_type": "markdown",
      "source": [
        "# Step 4 - Develop an algorithm (and convert it to python)\n",
        "\n",
        "***Inputs()***\n",
        "\n",
        "Ask user to enter the first number\n",
        "convert their input to a float to take both whole numbers and  decimals....\n",
        "read the user input for number 1\n",
        "\n",
        "Ask user to enter the second number\n",
        "convert their input to a float to take both whole numbers and  decimals.....\n",
        "read the user input for number 2\n",
        "\n",
        "\n",
        "Ask user for the operation (+, -, *, /) they would like to perform\n",
        "read user input for the operation\n",
        "\n",
        "return number 1, number 2, operation\n",
        "\n",
        "==============\n",
        "\n",
        "Calculate the total() receive number 1, number 2 and operations and create an if, elif and else statement\n",
        "\n",
        "\n",
        "\n",
        "***If, elif and Else Statement***\n",
        "\n",
        "If operation entered is +,:\n",
        "\n",
        "sum number 1 and number 2 and assign it to a variable called 'Total '\n",
        "\n",
        "Total = number1 + number2  \n",
        "\n",
        "elif operation entered is -,:\n",
        "\n",
        "subtract number 1 and number 2 and assign it to a variable called 'Total '\n",
        "\n",
        "Total = number1 - number2 then \n",
        "\n",
        "\n",
        "elif operation entered is *,:\n",
        "\n",
        "multiply number 1 and number 2 and assign it to a variable called 'Total '\n",
        "\n",
        "Total = number1 * number2 then \n",
        "\n",
        "\n",
        "elif operation entered is /,:\n",
        "\n",
        "divide number 1 and number 2 and assign it to a variable called 'TTotal '\n",
        "\n",
        "Total = number1 / number2 \n",
        "\n",
        "return Total\n",
        "\n",
        "==========\n",
        "\n",
        "***output()*** receive number 1, number 2, Operation and Total\n",
        "\n",
        "print out\n",
        "\n",
        "- number 1\n",
        "- number 2\n",
        "- Operation\n",
        "- Total\n"
      ],
      "metadata": {
        "id": "J_kOUaGA4Hsa"
      }
    },
    {
      "cell_type": "markdown",
      "source": [
        "# Final Design\n",
        "\n",
        "**Module: Main Program**\n",
        "\n",
        "**Module:** \n",
        "\n",
        "\n",
        "**Module:**\n",
        "\n"
      ],
      "metadata": {
        "id": "S7oj8cWz4Udi"
      }
    },
    {
      "cell_type": "code",
      "source": [
        "#Moduel 1 - Inputs()\n",
        "\n",
        "'''\n",
        "input for number 1\n",
        "\n",
        "input for number 2\n",
        "\n",
        "input for the operation\n",
        "\n",
        "   return number 1, number 2, operation\n",
        "\n",
        "'''\n",
        "\n",
        "#Module 2 - processing/calculation\n",
        "'''\n",
        "If operation entered is +:\n",
        "  Total = number1 + number2\n",
        "\n",
        "elif operation entered is -:\n",
        "  Total = number1 - number2\n",
        "\n",
        "elif operation entered is *:\n",
        "  Total = number1 * number2\n",
        "\n",
        "elif operation entered is /:\n",
        "  Total = number1 / number2\n",
        "\n",
        "     return Total\n",
        "\n",
        "'''\n",
        "\n",
        "\n",
        "#Module 3 - output results\n",
        "\n",
        "'''\n",
        "output() receive number 1, number 2, Operation and Total\n",
        "\n",
        "print out\n",
        "\n",
        "number 1\n",
        "number 2\n",
        "Operation\n",
        "Total\n",
        "\n",
        "'''"
      ],
      "metadata": {
        "id": "ij7XtwKbBNMz"
      },
      "execution_count": null,
      "outputs": []
    },
    {
      "cell_type": "markdown",
      "source": [
        "# Convert to Python\n",
        "\n",
        "Convert the design to Pythin in another notebook"
      ],
      "metadata": {
        "id": "9VFIwWNy4z9j"
      }
    },
    {
      "cell_type": "markdown",
      "source": [
        "# Step 5 - Test solution with a variety of data"
      ],
      "metadata": {
        "id": "QyOxJjqk4m9z"
      }
    },
    {
      "cell_type": "code",
      "source": [
        "\n",
        "'''\n",
        "\n",
        "We will test with decimals, and whole numbers.\n",
        "\n",
        "We will also test to see if anyone is likely to input a wrong function\n",
        "\n",
        "'''\n"
      ],
      "metadata": {
        "id": "uCx_YRJigORd"
      },
      "execution_count": 35,
      "outputs": []
    }
  ]
}