{
  "nbformat": 4,
  "nbformat_minor": 0,
  "metadata": {
    "colab": {
      "name": "The_Calculator_Program_Production (2).ipynb",
      "provenance": [],
      "include_colab_link": true
    },
    "kernelspec": {
      "name": "python3",
      "display_name": "Python 3"
    },
    "language_info": {
      "name": "python"
    }
  },
  "cells": [
    {
      "cell_type": "markdown",
      "metadata": {
        "id": "view-in-github",
        "colab_type": "text"
      },
      "source": [
        "<a href=\"https://colab.research.google.com/github/OMintahJnr/Calculator-Program/blob/main/The_Calculator_Program_Production_(2).ipynb\" target=\"_parent\"><img src=\"https://colab.research.google.com/assets/colab-badge.svg\" alt=\"Open In Colab\"/></a>"
      ]
    },
    {
      "cell_type": "markdown",
      "source": [
        "# Simple Calculator\n",
        "\n",
        "Provide a description\n",
        "\n",
        "\n",
        "This is a simple calculator program designed for the user to perform arthmetic calculations. It first requires two inputs from the user. After the user has entered them, it requests for the type of operation they would like to perform, be it addition, substraction, multipication or division.\n",
        "\n",
        "After receiving it, it processes the data received based on the selection of the operation.\n",
        "\n",
        "This then produces a total for the user."
      ],
      "metadata": {
        "id": "8D5d05fY8wir"
      }
    },
    {
      "cell_type": "markdown",
      "source": [
        "# Modules\n",
        "\n",
        "> *Note: The order of the following cells matter.*"
      ],
      "metadata": {
        "id": "QSdkJd8C86MM"
      }
    },
    {
      "cell_type": "code",
      "source": [
        "\n",
        "#Moduel 1 - Inputs()\n",
        "\n",
        "def input_data():\n",
        "  num1 = float(input('Enter Number 1: '))\n",
        "  num2 = float(input('Enter Number 2: ')) \n",
        "\n",
        "  while True: \n",
        "    try:\n",
        "      Oper = input('Choose the operation   +, -, *, /: ')\n",
        "      break\n",
        "    except Exception as err: \n",
        "      print('Invalid operation entered', err, '\\nPlease enter a valid operation.\\n')\n",
        " \n",
        "  return num1, num2, Oper\n",
        " "
      ],
      "metadata": {
        "id": "jNXN2HhtLBbT"
      },
      "execution_count": null,
      "outputs": []
    },
    {
      "cell_type": "code",
      "source": [
        "#Module 2 - processing/calculation\n",
        "\n",
        "def calculate(num1, num2, Oper): \n",
        "  \n",
        "\n",
        "    if Oper ==  '+':\n",
        "      Total = num1 + num2\n",
        "      \n",
        "    elif Oper ==  '-' : \n",
        "      Total = num1 - num2 \n",
        "    elif Oper ==  '*':\n",
        "      Total = num1 * num2\n",
        "    elif Oper ==  '/':\n",
        "      Total = num1 / num2\n",
        "   \n",
        "      \n",
        "\n",
        "    return Total"
      ],
      "metadata": {
        "id": "djH2me5ALAm5"
      },
      "execution_count": null,
      "outputs": []
    },
    {
      "cell_type": "code",
      "source": [
        "#Module 3 - output results  \n",
        "\n",
        "def output(num1, num2, Oper, Total):\n",
        "    print('number1: ', num1)\n",
        "    print('number2: ', num2)\n",
        "    print('operation selected: ', Oper)\n",
        "    print('Total: ',  Total)"
      ],
      "metadata": {
        "id": "Wqzsl_FbLAaf"
      },
      "execution_count": null,
      "outputs": []
    },
    {
      "cell_type": "code",
      "source": [
        "# We call the functions we have defined\n",
        "\n",
        "\n",
        "# Input_data\n",
        "\n",
        "num1, num2, Oper = input_data()\n",
        "\n",
        "\n",
        "#calculate\n",
        "Total = calculate(num1, num2, Oper)\n",
        "\n",
        "\n",
        "#Output\n",
        "output(num1, num2, Oper, Total)"
      ],
      "metadata": {
        "id": "ENXrKOfhLANL"
      },
      "execution_count": null,
      "outputs": []
    },
    {
      "cell_type": "markdown",
      "source": [
        "# Main Program"
      ],
      "metadata": {
        "id": "wo9hd-h587fF"
      }
    },
    {
      "cell_type": "code",
      "source": [
        "\n",
        "#Main Program\n",
        "\n",
        "def input_data():\n",
        "  num1 = float(input('Enter Number 1: '))\n",
        "  num2 = float(input('Enter Number 2: ')) \n",
        "\n",
        "  while True: \n",
        "    try:\n",
        "      Oper = input('Choose the operation   +, -, *, /: ')\n",
        "      break\n",
        "    except Exception as err: \n",
        "      print('Invalid operation entered', err, '\\nPlease enter a valid operation.\\n')\n",
        " \n",
        "  return num1, num2, Oper\n",
        "\n",
        "\n",
        "def calculate(num1, num2, Oper): \n",
        "  \n",
        "\n",
        "    if Oper ==  '+':\n",
        "      Total = num1 + num2\n",
        "      \n",
        "    elif Oper ==  '-' : \n",
        "      Total = num1 - num2 \n",
        "    elif Oper ==  '*':\n",
        "      Total = num1 * num2\n",
        "    elif Oper ==  '/':\n",
        "      Total = num1 / num2\n",
        "   \n",
        "      \n",
        "\n",
        "    return Total\n",
        "\n",
        "def output(num1, num2, Oper, Total):\n",
        "    print('number1: ', num1)\n",
        "    print('number2: ', num2)\n",
        "    print('operation selected: ', Oper)\n",
        "    print('Total: ',  Total)\n",
        "\n",
        "\n",
        "num1, num2, Oper = input_data()\n",
        "\n",
        "\n",
        "Total = calculate(num1, num2, Oper)\n",
        "\n",
        "\n",
        "output(num1, num2, Oper, Total)\n",
        "\n",
        "\n"
      ],
      "metadata": {
        "id": "ePlC9YVkLMZr",
        "outputId": "7ea72b1d-0b13-4947-cedf-5a91d96d4885",
        "colab": {
          "base_uri": "https://localhost:8080/"
        }
      },
      "execution_count": 1,
      "outputs": [
        {
          "output_type": "stream",
          "name": "stdout",
          "text": [
            "Enter Number 1: 15\n",
            "Enter Number 2: 20\n",
            "Choose the operation   +, -, *, /: *\n",
            "number1:  15.0\n",
            "number2:  20.0\n",
            "operation selected:  *\n",
            "Total:  300.0\n"
          ]
        }
      ]
    }
  ]
}