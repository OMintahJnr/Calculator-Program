{
  "nbformat": 4,
  "nbformat_minor": 0,
  "metadata": {
    "colab": {
      "name": "Task 1.ipynb",
      "provenance": [],
      "authorship_tag": "ABX9TyMdcGeRdBhzQJhMKMVA69GW",
      "include_colab_link": true
    },
    "kernelspec": {
      "name": "python3",
      "display_name": "Python 3"
    },
    "language_info": {
      "name": "python"
    }
  },
  "cells": [
    {
      "cell_type": "markdown",
      "metadata": {
        "id": "view-in-github",
        "colab_type": "text"
      },
      "source": [
        "<a href=\"https://colab.research.google.com/github/OMintahJnr/Calculator-Program/blob/main/Task_1.ipynb\" target=\"_parent\"><img src=\"https://colab.research.google.com/assets/colab-badge.svg\" alt=\"Open In Colab\"/></a>"
      ]
    },
    {
      "cell_type": "code",
      "execution_count": null,
      "metadata": {
        "id": "HaVuwJdUECxV"
      },
      "outputs": [],
      "source": [
        ""
      ]
    },
    {
      "cell_type": "markdown",
      "source": [
        "****INTRODUCTION****\n",
        "\n",
        "This report consists of the application tasked by a retail company through our online advertising agency to create a promotional campaign for their products.\n",
        "\n",
        "This client deals in men’s clothing and accessories and has fresh stock coming in, but the current warehouse cannot accommodate the new inventory arriving. In order to free space to receive them he has to get rid of old stock that is excess inventory. \n",
        "\n",
        "Since they are still of monetary value, he has decided to slash off prices and offer ‘once in a life time deal’ to attract customers to help him embark on this exercise. This being a clearance sale which offers many **promotions and discounts**, emphasis will be placed on such keywords.                         \n",
        "Price sensitive customers are the target hence the need to move away from luxury keywords and headings. \n",
        "\n",
        "According to the clients requests the first step will be to generate products to be put on sale and the list of promotional words to use. We then put them together to generate a good keyword that will sell the product. \n",
        "\n",
        "Example:\n",
        "\n",
        "* Products: sofas, recliners\n",
        "* Words: buy, prices\n",
        "\n",
        "The resulting keywords: 'buy sofas', 'sofas buy', 'buy recliners', 'recliners buy', 'prices sofas', 'sofas prices', 'prices recliners', 'recliners prices'. As a final result, a Data frame such as the following will be created: \n",
        "\n",
        "                    Ad Group\t          \tKeyword\n",
        "                    Sofas\t              keyword 1a - sofas buy\n",
        "                    Sofas\t              keyword 1b - discount sofas\n",
        "                    Recliners          \tkeyword 2a - prices recliners\n",
        "\n",
        "The Data frame result will then be saved as a CSV file and/or stored in an SQLite database.\n",
        "\n",
        "Finally, a word cloud is generated to give the client a visual representation of the keywords generated for the promotional campaign.\n",
        "\n"
      ],
      "metadata": {
        "id": "H5xeS_F_EiPz"
      }
    },
    {
      "cell_type": "markdown",
      "source": [
        "1.\t****Generate Products to be put on sale and Promotional Words****\n",
        "\n",
        "The retailer deals in a lot of products so we would give him the option to enter the kind of products he will like to put up for sale.\n",
        "\n",
        "We will first ask him to tell us the number of products he will like to put up for sale. We then ask him to tell us the name of the product (e.g. Shirts, Jeans, Shoes) according to the number he inserted. We will then use the input to create a list using 'for' loop which we will then add to the promotional words to form the keywords for the campaign.\n",
        "\n"
      ],
      "metadata": {
        "id": "65THkB9hG4o0"
      }
    },
    {
      "cell_type": "code",
      "source": [
        "# Ask for the number of products that are up for sale\n",
        "# Assign to a variable\n",
        "\n",
        "while True:\n",
        "  try:\n",
        "    Product_Sales = int(input('How many products are going to be on sale?: ')) # We do not want the value taken to be a string\n",
        "    break                                                                      # but an integer so we use 'int' function.\n",
        "  except:\n",
        "    print('Please enter a number')                                                                           \n",
        "    \n",
        "\n",
        "''' In order to get only an integer as an input we set an input validation\n",
        "     'try and except' to print a message to let the user follow the correct format.\n",
        "     We also used the 'while loop' to to prevent them seeing the error message\n",
        "     and to also repeat the question asked for an input from the user sgain.'''\n",
        "     \n",
        "#print(Product_Sales)\n",
        "\n",
        "# Create an empty list \n",
        "Products = []\n",
        "\n",
        "# 'For loop' is used in relation to the number of products up for sale\n",
        "#  to ask for the name of the specific products for sale\n",
        "for i in range (Product_Sales):\n",
        "  # The range function uses \"i\" to determine the number of cycles in the loop\n",
        "\n",
        "    Pro = input('Enter the name of product: ') \n",
        "\n",
        "# We then use append to put users response into the empty list craeted\n",
        "    Products.append(Pro)\n",
        "\n",
        "#Print list of Products\n",
        "print(Products)\n",
        "\n",
        "\n",
        "# list of promotional words to pair with products\n",
        "words = ['flash sale', 'clearance sale', 'cashback promo', 'discount', 'buy one get one free', 'free gift with purchase']\n",
        "\n",
        "''' These were the hot promotional words used to clear inventory'''\n",
        "\n",
        "#Print list of words\n",
        "print(words)\n",
        "\n",
        "\n",
        "\n"
      ],
      "metadata": {
        "colab": {
          "base_uri": "https://localhost:8080/"
        },
        "id": "DqeiIP7DIP6f",
        "outputId": "1a1f919a-f568-4d84-855a-7e38bdb5ec0e"
      },
      "execution_count": 22,
      "outputs": [
        {
          "output_type": "stream",
          "name": "stdout",
          "text": [
            "How many products are going to be on sale?: 2\n",
            "Enter the name of product: Bags\n",
            "Enter the name of product: Shirt\n",
            "['Bags', 'Shirt']\n",
            "['flash sale', 'clearance sale', 'cashback promo', 'discount', 'buy one get one free', 'free gift with purchase']\n"
          ]
        }
      ]
    },
    {
      "cell_type": "markdown",
      "source": [
        "****2. Joining the words with the product names****\n",
        "\n",
        "After getting the product and promotional word, we can now join them together to generate good keywords for the clearance sale. \n",
        "\n",
        "This task that usually takes hours to do can be reduced to munites using a \"for loop\".\n",
        "\n",
        "To get access to more combinations we will join every word with every product once before, and once after as seen in the introduction example."
      ],
      "metadata": {
        "id": "N-kmR4zmWuWe"
      }
    },
    {
      "cell_type": "code",
      "source": [
        "# Create an empty list to store keywords\n",
        "keywords_list = []\n",
        "\n",
        "'''Use 'for loop' which is used to loop through set of code a \n",
        "   specified number of times, to loop through products\n",
        "   and words'''\n",
        "\n",
        "# Loop through products:\n",
        "for product in Products:\n",
        "  # Loop through words:\n",
        "  for word in words:\n",
        "\n",
        "    #Append product and words to the list\n",
        "    keywords_list.append([product, product + ' ' + word])\n",
        "    #This is combining every product and word before\n",
        "    keywords_list.append([product, word + ' ' + product])\n",
        "    #This is combining every product and word after.\n",
        "\n",
        "# Print keyword list to see if it fits using pprint because we want a uniform output\n",
        "from pprint import pprint #Talk about what pprint is\n",
        "pprint(keywords_list)\n",
        "\n",
        "\n",
        "\n",
        "\n"
      ],
      "metadata": {
        "id": "cWTiGTxQnxNe"
      },
      "execution_count": null,
      "outputs": []
    },
    {
      "cell_type": "markdown",
      "source": [
        "****3. Create a DataFrame****\n",
        "\n",
        "With the keywords now generated, a data frame will help group and sort them into columns and rows. \n",
        "\n",
        "This uses the pandas module which can clean messy data sets, and make them readable and relevant (w3 schools)\n"
      ],
      "metadata": {
        "id": "1CRnLbgrt6j6"
      }
    },
    {
      "cell_type": "code",
      "source": [
        "# Call the pandas module by using import function\n",
        "import pandas as pd # as 'pd' is an alias. That is to allow us shorten pandas name in codes\n",
        "\n",
        "# Create a DataFrame from the keyword list\n",
        "keywords_df = pd.DataFrame.from_records(keywords_list) #Try using zip and lets see\n",
        "\n",
        "# Print the keywords Dataframe to see if it matchs well.\n",
        "print(keywords_df)"
      ],
      "metadata": {
        "id": "r8oFCDI2woD0"
      },
      "execution_count": null,
      "outputs": []
    },
    {
      "cell_type": "markdown",
      "source": [
        "****4. Rename the columns of the DataFrame****\n",
        "\n",
        "After printing we found out that no proper heading was given to the columns created. This doesnt look professional and acceptable. We decided to give them appropriate names just like what is listed in the introduction."
      ],
      "metadata": {
        "id": "RlBwHII00RbB"
      }
    },
    {
      "cell_type": "code",
      "source": [
        "# Rename the columns of the DataFrame\n",
        "keywords_df = keywords_df.rename(columns= {\n",
        "    0: 'Ad Group',  # Change the name from 0 to Ad Group\n",
        "    1: 'Keyword'    # Change the name from 1 to Keyword\n",
        "})\n",
        "\n",
        "print(keywords_df)"
      ],
      "metadata": {
        "id": "3deNPH-W0HkI"
      },
      "execution_count": null,
      "outputs": []
    },
    {
      "cell_type": "markdown",
      "source": [
        "****5. Saving of Data Frame Result****\n"
      ],
      "metadata": {
        "id": "VxmTnsdk2-54"
      }
    }
  ]
}